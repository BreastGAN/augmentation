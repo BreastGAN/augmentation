{
 "cells": [
  {
   "cell_type": "markdown",
   "metadata": {},
   "source": [
    "# Image inference conversion notebook"
   ]
  },
  {
   "cell_type": "markdown",
   "metadata": {},
   "source": [
    "## Notebook setup"
   ]
  },
  {
   "cell_type": "code",
   "execution_count": null,
   "metadata": {},
   "outputs": [],
   "source": [
    "# noqa\n",
    "import os\n",
    "COLAB = 'DATALAB_DEBUG' in os.environ\n",
    "\n",
    "if COLAB:\n",
    "    !apt-get update\n",
    "    !apt-get install git\n",
    "    !git clone https://gist.github.com/oskopek/e27ca34cb2b813cae614520e8374e741 bstrap\n",
    "    import bstrap.bootstrap as bootstrap\n",
    "else:\n",
    "    wd = %%pwd\n",
    "    if wd.endswith('notebooks'):\n",
    "        print('Current directory:', wd)\n",
    "        %cd ..\n",
    "        %pwd\n",
    "    import resources.our_colab_utils.bootstrap as bootstrap\n",
    "\n",
    "bootstrap.bootstrap(branch='master', packages='dotmap==1.2.20 keras==2.1.4 pydicom==1.0.2 Pillow==5.0.0')\n",
    "\n",
    "if COLAB:\n",
    "    !rm -rf bstrap"
   ]
  },
  {
   "cell_type": "markdown",
   "metadata": {},
   "source": [
    "## Actual notebook"
   ]
  },
  {
   "cell_type": "code",
   "execution_count": null,
   "metadata": {},
   "outputs": [],
   "source": [
    "# noqa\n",
    "import csv\n",
    "import os\n",
    "from dotmap import DotMap\n",
    "\n",
    "import matplotlib\n",
    "import matplotlib.pyplot as plt\n",
    "import numpy as np\n",
    "from PIL import Image\n",
    "import pydicom\n",
    "import skimage.transform\n",
    "import tensorflow as tf\n",
    "\n",
    "import resources.data.loader as loader\n",
    "import resources.image_utils as imutils\n",
    "import resources.synthetic_data as synth_data\n",
    "\n",
    "%load_ext autoreload\n",
    "%autoreload 2\n",
    "%matplotlib inline\n",
    "matplotlib.rcParams['figure.figsize'] = (10, 10)\n",
    "plt.rcParams['image.cmap'] = 'gray' # 'viridis', 'gray'"
   ]
  },
  {
   "cell_type": "markdown",
   "metadata": {},
   "source": [
    "## Define plotting"
   ]
  },
  {
   "cell_type": "code",
   "execution_count": null,
   "metadata": {},
   "outputs": [],
   "source": [
    "def show_img(img):\n",
    "    f = plt.figure(figsize=(16, 8))\n",
    "    ax = f.add_subplot(1, 2, 1)\n",
    "    ax2 = f.add_subplot(1, 2, 2)\n",
    "    ax.imshow(img)\n",
    "    ax2.hist(np.ravel(img))\n",
    "    plt.show()\n"
   ]
  },
  {
   "cell_type": "markdown",
   "metadata": {},
   "source": [
    "## Define helper functions"
   ]
  },
  {
   "cell_type": "code",
   "execution_count": null,
   "metadata": {},
   "outputs": [],
   "source": [
    "def get_image(example, suffix=''):\n",
    "    w = example.features.feature['width'].int64_list.value[0]\n",
    "    h = example.features.feature['height'].int64_list.value[0]\n",
    "    img_string = example.features.feature['image' + suffix].bytes_list.value[0]\n",
    "    img = np.frombuffer(img_string, dtype=np.float32)\n",
    "    img = img.reshape(h, w)\n",
    "    return img\n",
    "\n",
    "\n",
    "def get_images(tfrecords_glob,\n",
    "               options=tf.python_io.TFRecordOptions(compression_type=tf.python_io.TFRecordCompressionType.GZIP)):\n",
    "    for file in tf.gfile.Glob(tfrecords_glob):\n",
    "        for record in tf.python_io.tf_record_iterator(file, options=options):\n",
    "            example = tf.train.Example()\n",
    "            example.ParseFromString(record)\n",
    "            yield get_image(example), get_image(example, suffix='_gen')\n",
    "\n",
    "\n",
    "def to_png(matrix, path):\n",
    "    img = imutils.normalize_gaussian(matrix)\n",
    "    img = imutils.normalize(img, new_min=0, new_max=255)\n",
    "    img = Image.fromarray(img)\n",
    "    if img.mode != 'RGB':\n",
    "        img = img.convert('RGB')\n",
    "    img.save(path)\n"
   ]
  },
  {
   "cell_type": "code",
   "execution_count": null,
   "metadata": {},
   "outputs": [],
   "source": [
    "infdir = '/home/oskopek/tmp/anton_out_inference'\n",
    "for eval_dir in os.listdir(infdir):\n",
    "    for chkpt in os.listdir(os.path.join(infdir, eval_dir)):\n",
    "        for cancer in [\"cancer\", \"healthy\"]:\n",
    "            src_glob = os.path.join(infdir, eval_dir, chkpt, \"{}_gen.tfrecord\".format(cancer))\n",
    "            target_dir = os.path.join(infdir, eval_dir, chkpt + \"_png_{}\".format(cancer))\n",
    "            print(src_glob, target_dir)\n",
    "            tf.gfile.MakeDirs(target_dir)\n",
    "            for i, (image, gen) in enumerate(get_images(src_glob)):\n",
    "                if i == 100:\n",
    "                    break\n",
    "                to_png(image, os.path.join(target_dir, \"{:05}_orig.png\".format(i)))\n",
    "                to_png(gen, os.path.join(target_dir, \"{:05}_gen.png\".format(i)))\n"
   ]
  },
  {
   "cell_type": "code",
   "execution_count": null,
   "metadata": {},
   "outputs": [],
   "source": []
  }
 ],
 "metadata": {
  "kernelspec": {
   "display_name": "Python 3",
   "language": "python",
   "name": "python3"
  }
 },
 "nbformat": 4,
 "nbformat_minor": 0
}
