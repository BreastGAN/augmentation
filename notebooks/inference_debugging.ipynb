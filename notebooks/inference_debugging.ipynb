{
 "cells": [
  {
   "cell_type": "markdown",
   "metadata": {},
   "source": [
    "# Image inference conversion notebook"
   ]
  },
  {
   "cell_type": "markdown",
   "metadata": {},
   "source": [
    "## Notebook setup"
   ]
  },
  {
   "cell_type": "code",
   "execution_count": null,
   "metadata": {},
   "outputs": [],
   "source": [
    "# noqa\n",
    "import os\n",
    "COLAB = 'DATALAB_DEBUG' in os.environ\n",
    "\n",
    "if COLAB:\n",
    "    !apt-get update\n",
    "    !apt-get install git\n",
    "    !git clone https://gist.github.com/oskopek/e27ca34cb2b813cae614520e8374e741 bstrap\n",
    "    import bstrap.bootstrap as bootstrap\n",
    "else:\n",
    "    wd = %%pwd\n",
    "    if wd.endswith('notebooks'):\n",
    "        print('Current directory:', wd)\n",
    "        %cd ..\n",
    "        %pwd\n",
    "    import resources.our_colab_utils.bootstrap as bootstrap\n",
    "\n",
    "bootstrap.bootstrap(branch='master', packages='dotmap==1.2.20 keras==2.1.4 pydicom==1.0.2 Pillow==5.0.0')\n",
    "\n",
    "if COLAB:\n",
    "    !rm -rf bstrap"
   ]
  },
  {
   "cell_type": "markdown",
   "metadata": {},
   "source": [
    "## Actual notebook"
   ]
  },
  {
   "cell_type": "code",
   "execution_count": null,
   "metadata": {},
   "outputs": [],
   "source": [
    "# noqa\n",
    "import csv\n",
    "import os\n",
    "from dotmap import DotMap\n",
    "\n",
    "import matplotlib\n",
    "import matplotlib.pyplot as plt\n",
    "import numpy as np\n",
    "from PIL import Image\n",
    "import pydicom\n",
    "import skimage.transform\n",
    "import tensorflow as tf\n",
    "\n",
    "import resources.data.loader as loader\n",
    "import resources.image_utils as imutils\n",
    "import resources.synthetic_data as synth_data\n",
    "\n",
    "%load_ext autoreload\n",
    "%autoreload 2\n",
    "%matplotlib inline\n",
    "matplotlib.rcParams['figure.figsize'] = (10, 10)\n",
    "plt.rcParams['image.cmap'] = 'gray' # 'viridis', 'gray'"
   ]
  },
  {
   "cell_type": "markdown",
   "metadata": {},
   "source": [
    "## Define plotting"
   ]
  },
  {
   "cell_type": "code",
   "execution_count": null,
   "metadata": {},
   "outputs": [],
   "source": [
    "import skimage.exposure\n",
    "\n",
    "\n",
    "def show_img(img):\n",
    "    img = img.copy()\n",
    "    img = imutils.normalize(img, new_min=0, new_max=1)\n",
    "    img = skimage.exposure.equalize_hist(img)\n",
    "    img[0, 0] = 1.0\n",
    "    #     img = skimage.exposure.adjust_log(img)\n",
    "    #     img = imutils.normalize_gaussian(img, std=1/3)\n",
    "    #     img = imutils.normalize(img, new_min=0, new_max=255)\n",
    "\n",
    "    f = plt.figure(figsize=(16, 8))\n",
    "    ax = f.add_subplot(1, 2, 1)\n",
    "    ax2 = f.add_subplot(1, 2, 2)\n",
    "    ax.imshow(img)\n",
    "    ax2.hist(np.ravel(img))\n",
    "    plt.show()\n"
   ]
  },
  {
   "cell_type": "markdown",
   "metadata": {},
   "source": [
    "## Define helper functions"
   ]
  },
  {
   "cell_type": "code",
   "execution_count": null,
   "metadata": {},
   "outputs": [],
   "source": [
    "def get_image(example, suffix='', name='image'):\n",
    "    w = example.features.feature['width'].int64_list.value[0]\n",
    "    h = example.features.feature['height'].int64_list.value[0]\n",
    "    img_string = example.features.feature[name + suffix].bytes_list.value[0]\n",
    "    img = np.frombuffer(img_string, dtype=np.float32)\n",
    "    img = img.reshape(h, w)\n",
    "    return img\n",
    "\n",
    "\n",
    "def get_images(tfrecords_glob,\n",
    "               options=tf.python_io.TFRecordOptions(compression_type=tf.python_io.TFRecordCompressionType.GZIP)):\n",
    "    for file in tf.gfile.Glob(tfrecords_glob):\n",
    "        for record in tf.python_io.tf_record_iterator(file, options=options):\n",
    "            example = tf.train.Example()\n",
    "            example.ParseFromString(record)\n",
    "            yield get_image(example), get_image(\n",
    "                    example, suffix='_gen'), get_image(\n",
    "                            example, name='mask'), get_image(\n",
    "                                    example, suffix='_gen', name='mask')\n",
    "\n",
    "\n",
    "def to_png(matrix, path):\n",
    "    img = matrix.copy()\n",
    "    img = imutils.normalize_gaussian(img)\n",
    "    img = imutils.normalize(img, new_min=0, new_max=255)\n",
    "    img = Image.fromarray(img)\n",
    "    if img.mode != 'RGB':\n",
    "        img = img.convert('RGB')\n",
    "    img.save(path)\n"
   ]
  },
  {
   "cell_type": "code",
   "execution_count": null,
   "metadata": {},
   "outputs": [],
   "source": [
    "infdir = '/home/oskopek/tmp'\n",
    "eval_dir = 'MaskTrue_BcdrInbreastFilterTrain_NoAugment_ICNR_nnUPSAMPLE_Lam0.0_88ksteps_model.ckpt-88417_inference_eval'\n",
    "for cancer in [\"cancer*\", \"healthy*\"]:\n",
    "    src_glob = os.path.join(infdir, eval_dir, \"{}_gen.tfrecord\".format(cancer))\n",
    "    target_dir = os.path.join(infdir, eval_dir + \"_png_{}\".format(cancer[:-1]))\n",
    "    print(src_glob, target_dir)\n",
    "    tf.gfile.MakeDirs(target_dir)\n",
    "    for i, (image, gen, mask, gen_mask) in enumerate(get_images(src_glob)):\n",
    "        if i == 10:\n",
    "            break\n",
    "        show_img(image)\n",
    "        show_img(gen)\n",
    "#         to_png(image, os.path.join(target_dir, \"{:05}_A_orig.png\".format(i)))\n",
    "#         to_png(mask, os.path.join(target_dir, \"{:05}_B_mask.png\".format(i)))\n",
    "#         to_png(gen, os.path.join(target_dir, \"{:05}_C_gen.png\".format(i)))\n",
    "#         to_png(gen_mask, os.path.join(target_dir, \"{:05}_D_gen_mask.png\".format(i)))"
   ]
  },
  {
   "cell_type": "code",
   "execution_count": null,
   "metadata": {},
   "outputs": [],
   "source": [
    "img = image\n",
    "img = img.copy()\n",
    "img /= np.max(img)\n",
    "img = skimage.exposure.adjust_gamma(img, gamma=2.0)"
   ]
  },
  {
   "cell_type": "code",
   "execution_count": null,
   "metadata": {},
   "outputs": [],
   "source": [
    "img.max()"
   ]
  },
  {
   "cell_type": "code",
   "execution_count": null,
   "metadata": {},
   "outputs": [],
   "source": []
  }
 ],
 "metadata": {
  "kernelspec": {
   "display_name": "Python 3",
   "language": "python",
   "name": "python3"
  }
 },
 "nbformat": 4,
 "nbformat_minor": 0
}
