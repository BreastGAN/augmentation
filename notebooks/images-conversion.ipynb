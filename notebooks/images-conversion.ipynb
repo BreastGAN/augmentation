{
 "cells": [
  {
   "cell_type": "markdown",
   "metadata": {},
   "source": [
    "# Image loading and generation notebook"
   ]
  },
  {
   "cell_type": "markdown",
   "metadata": {},
   "source": [
    "## Notebook setup"
   ]
  },
  {
   "cell_type": "code",
   "execution_count": null,
   "metadata": {},
   "outputs": [],
   "source": [
    "# noqa\n",
    "import os\n",
    "COLAB = 'DATALAB_DEBUG' in os.environ\n",
    "\n",
    "if COLAB:\n",
    "    !apt-get update\n",
    "    !apt-get install git\n",
    "    !git clone https://gist.github.com/oskopek/e27ca34cb2b813cae614520e8374e741 bstrap\n",
    "    import bstrap.bootstrap as bootstrap\n",
    "else:\n",
    "    wd = %%pwd\n",
    "    if wd.endswith('notebooks'):\n",
    "        print('Current directory:', wd)\n",
    "        %cd ..\n",
    "        %pwd\n",
    "    import resources.our_colab_utils.bootstrap as bootstrap\n",
    "\n",
    "bootstrap.bootstrap(branch='master', packages='imgaug dotmap==1.2.20 keras==2.1.4 pydicom==1.0.2 Pillow==5.0.0')\n",
    "\n",
    "if COLAB:\n",
    "    !rm -rf bstrap\n",
    "else:\n",
    "    !pip install imgaug opencv-python"
   ]
  },
  {
   "cell_type": "markdown",
   "metadata": {},
   "source": [
    "## Actual notebook"
   ]
  },
  {
   "cell_type": "code",
   "execution_count": null,
   "metadata": {},
   "outputs": [],
   "source": [
    "# noqa\n",
    "import csv\n",
    "import os\n",
    "from dotmap import DotMap\n",
    "\n",
    "import matplotlib\n",
    "import matplotlib.pyplot as plt\n",
    "import numpy as np\n",
    "from PIL import Image\n",
    "import pydicom\n",
    "import skimage.transform\n",
    "import tensorflow as tf\n",
    "\n",
    "import resources.data.loader as loader\n",
    "import resources.data.transformer as transformer\n",
    "import resources.image_utils as imutils\n",
    "import resources.synthetic_data as synth_data\n",
    "\n",
    "%load_ext autoreload\n",
    "%autoreload 2\n",
    "%matplotlib inline\n",
    "matplotlib.rcParams['figure.figsize'] = (10, 10)\n",
    "plt.rcParams['image.cmap'] = 'gray' # 'viridis', 'gray'"
   ]
  },
  {
   "cell_type": "markdown",
   "metadata": {},
   "source": [
    "## Data setup"
   ]
  },
  {
   "cell_type": "code",
   "execution_count": null,
   "metadata": {},
   "outputs": [],
   "source": [
    "breast_prefix = os.path.abspath('/scratch_net/biwidl100/oskopek')\n",
    "loader.init(breast_prefix)\n",
    "size = (64, 50)\n",
    "transformed_folder = os.path.join(breast_prefix, \"transformed\")\n",
    "transformed_out = os.path.join(transformed_folder, \"small_all_{}x{}\".format(size[0], size[1]))\n",
    "os.makedirs(transformed_out, exist_ok=True)\n",
    "transformed_final = os.path.join(transformed_folder, \"small_all_{}x{}_final\".format(size[0], size[1]))\n",
    "os.makedirs(transformed_final, exist_ok=True)\n",
    "out_healthy = os.path.join(transformed_final, 'healthy.tfrecord')\n",
    "out_cancer = os.path.join(transformed_final, 'cancer.tfrecord')"
   ]
  },
  {
   "cell_type": "markdown",
   "metadata": {},
   "source": [
    "## Convert datasets to trainable CycleGan Images"
   ]
  },
  {
   "cell_type": "markdown",
   "metadata": {},
   "source": [
    "* Add labels to BCDR images\n",
    "* Method to filter out CC view and resize and split according to label bcdr\n",
    "* Add labels to inBreast images\n",
    "* Method to filter out CC view and resize and split according to label inBreast\n",
    "* Merge them and copy the images to 2 folders based on label"
   ]
  },
  {
   "cell_type": "code",
   "execution_count": null,
   "metadata": {},
   "outputs": [],
   "source": [
    "healthy, cancer = loader.load_all_datasets()\n",
    "filter_n = 2\n",
    "if filter_n is not None:\n",
    "    healthy, cancer = healthy[:filter_n], cancer[:filter_n]\n"
   ]
  },
  {
   "cell_type": "code",
   "execution_count": null,
   "metadata": {},
   "outputs": [],
   "source": [
    "transformer.transform(healthy, cancer, transformed_out, threads=1, size=size, augment_epochs=2)"
   ]
  },
  {
   "cell_type": "markdown",
   "metadata": {},
   "source": [
    "### Merge shards"
   ]
  },
  {
   "cell_type": "code",
   "execution_count": null,
   "metadata": {},
   "outputs": [],
   "source": [
    "transformer.merge_shards_in_folder(transformed_out, transformed_final)"
   ]
  },
  {
   "cell_type": "markdown",
   "metadata": {},
   "source": [
    "### Show images from tfrecords"
   ]
  },
  {
   "cell_type": "code",
   "execution_count": null,
   "metadata": {},
   "outputs": [],
   "source": [
    "outf = '/scratch_net/biwidl100/oskopek/transformed/small_all_64x50/label_1.augment_False.r_0.t_0.tfrecord'\n",
    "import notebooks.inspect2 as inspect2\n",
    "inspect2.show_images(outf)"
   ]
  },
  {
   "cell_type": "code",
   "execution_count": null,
   "metadata": {},
   "outputs": [],
   "source": []
  }
 ],
 "metadata": {
  "kernelspec": {
   "display_name": "Python 3",
   "language": "python",
   "name": "python3"
  }
 },
 "nbformat": 4,
 "nbformat_minor": 0
}
