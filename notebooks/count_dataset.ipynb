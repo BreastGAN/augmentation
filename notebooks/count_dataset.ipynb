{
 "cells": [
  {
   "cell_type": "markdown",
   "metadata": {},
   "source": [
    "# Image inference conversion notebook"
   ]
  },
  {
   "cell_type": "markdown",
   "metadata": {},
   "source": [
    "## Notebook setup"
   ]
  },
  {
   "cell_type": "code",
   "execution_count": null,
   "metadata": {},
   "outputs": [],
   "source": [
    "# noqa\n",
    "import os\n",
    "wd = %pwd\n",
    "if wd.endswith('notebooks'):\n",
    "    print('Current directory:', wd)\n",
    "    %cd ..\n",
    "    %pwd"
   ]
  },
  {
   "cell_type": "markdown",
   "metadata": {},
   "source": [
    "## Actual notebook"
   ]
  },
  {
   "cell_type": "code",
   "execution_count": null,
   "metadata": {},
   "outputs": [],
   "source": [
    "# noqa\n",
    "import csv\n",
    "import os\n",
    "from dotmap import DotMap\n",
    "\n",
    "import matplotlib\n",
    "import matplotlib.pyplot as plt\n",
    "import numpy as np\n",
    "from PIL import Image\n",
    "import pydicom\n",
    "import skimage.transform\n",
    "import tensorflow as tf\n",
    "\n",
    "import resources.data.loader as loader\n",
    "import resources.image_utils as imutils\n",
    "import resources.synthetic_data as synth_data\n",
    "\n",
    "%load_ext autoreload\n",
    "%autoreload 2\n",
    "%matplotlib inline\n",
    "matplotlib.rcParams['figure.figsize'] = (10, 10)\n",
    "plt.rcParams['image.cmap'] = 'gray' # 'viridis', 'gray'"
   ]
  },
  {
   "cell_type": "code",
   "execution_count": null,
   "metadata": {},
   "outputs": [],
   "source": [
    "def count_records(tfrecords_glob,\n",
    "                  options=tf.python_io.TFRecordOptions(compression_type=tf.python_io.TFRecordCompressionType.GZIP)):\n",
    "    count = 0\n",
    "    for file in tf.gfile.Glob(tfrecords_glob):\n",
    "        for record in tf.python_io.tf_record_iterator(file, options=options):\n",
    "            count += 1\n",
    "    return count"
   ]
  },
  {
   "cell_type": "code",
   "execution_count": null,
   "metadata": {},
   "outputs": [],
   "source": [
    "infdir = '/home/oskopek/tmp'\n",
    "for cancer in [\"cancer\", \"healthy\"]:\n",
    "    src_glob = os.path.join(infdir, \"{}.train.tfrecord\".format(cancer))\n",
    "    print(src_glob)\n",
    "    print(cancer, count_records(src_glob))"
   ]
  },
  {
   "cell_type": "code",
   "execution_count": null,
   "metadata": {},
   "outputs": [],
   "source": []
  }
 ],
 "metadata": {
  "kernelspec": {
   "display_name": "Python 3",
   "language": "python",
   "name": "python3"
  }
 },
 "nbformat": 4,
 "nbformat_minor": 0
}
